{
 "cells": [
  {
   "cell_type": "code",
   "execution_count": 2,
   "metadata": {},
   "outputs": [],
   "source": [
    "import numpy as np\n",
    "import pandas as pd\n",
    "\n",
    "# models\n",
    "from sklearn.svm import SVC\n",
    "from sklearn.linear_model import LogisticRegression\n",
    "from sklearn.neighbors import KNeighborsClassifier\n",
    "from xgboost import XGBClassifier\n",
    "from sklearn.model_selection import GridSearchCV\n",
    "from sklearn.ensemble import RandomForestClassifier\n",
    "from sklearn.tree import DecisionTreeClassifier\n",
    "\n",
    "# data manipulation\n",
    "from sklearn.model_selection import train_test_split\n",
    "from sklearn.preprocessing import StandardScaler\n",
    "\n",
    "# metrics\n",
    "from sklearn.metrics import accuracy_score, confusion_matrix\n",
    "from sklearn.metrics import roc_auc_score, roc_curve, auc\n",
    "\n",
    "# plotting\n",
    "import matplotlib.pyplot as plt\n",
    "import seaborn as sns"
   ]
  },
  {
   "cell_type": "code",
   "execution_count": 6,
   "metadata": {},
   "outputs": [],
   "source": [
    "wine_dataset = np.load(\"../data/wine_dataset.npy\")"
   ]
  },
  {
   "cell_type": "code",
   "execution_count": 7,
   "metadata": {},
   "outputs": [
    {
     "data": {
      "text/plain": [
       "(1143, 12)"
      ]
     },
     "execution_count": 7,
     "metadata": {},
     "output_type": "execute_result"
    }
   ],
   "source": [
    "wine_dataset.shape"
   ]
  },
  {
   "cell_type": "code",
   "execution_count": 24,
   "metadata": {},
   "outputs": [],
   "source": [
    "def training(model_name):\n",
    "    test_sizes = [0.8, 0.5, 0.2]\n",
    "    # test_sizes = [0.2] # for sanity checking process\n",
    "    splits = {}\n",
    "    for size in test_sizes:\n",
    "\n",
    "        # getting the new split\n",
    "        X_train, X_test, y_train, y_test = train_test_split(\n",
    "            wine_dataset[:, 0:-1], wine_dataset[:, -1], \n",
    "            test_size=size, random_state=1\n",
    "        )\n",
    "\n",
    "        param_grid = None\n",
    "\n",
    "        # define model\n",
    "        if model_name == \"LogisticRegression\":\n",
    "            model = LogisticRegression()\n",
    "            param_grid = {\n",
    "                'C': np.linspace(0.001, 0.999, 10)\n",
    "            }\n",
    "        elif model_name == \"XGBClassifier\":\n",
    "            model = XGBClassifier()\n",
    "        elif model_name == \"RandomForestClassifier\":\n",
    "            model = RandomForestClassifier()\n",
    "        else:\n",
    "            model = DecisionTreeClassifier()\n",
    "\n",
    "        # parameters to hypertune\n",
    "        if param_grid == None:\n",
    "            param_grid = {\n",
    "                'max_depth': [i for i in range(1, 12)]\n",
    "            }\n",
    "\n",
    "        # cross validation to search for the best model hyperparameters\n",
    "        grid_search = GridSearchCV(model, param_grid, cv=5, scoring='accuracy', verbose=True, error_score='raise')\n",
    "        grid_search.fit(X_train, y_train)\n",
    "        splits[size] = grid_search\n",
    "    return splits"
   ]
  },
  {
   "cell_type": "code",
   "execution_count": 25,
   "metadata": {},
   "outputs": [],
   "source": [
    "def draw_heatmap(errors, C_list, title):\n",
    "    plt.figure(figsize = (2,4))\n",
    "    ax = sns.heatmap(errors.reshape(-1, 1), annot=True, fmt='.3f', yticklabels=C_list.reshape(-1, 1), xticklabels=[])\n",
    "    ax.collections[0].colorbar.set_label('error')\n",
    "    ax.set(ylabel='Hyperparameter')\n",
    "    bottom, top = ax.get_ylim()\n",
    "    ax.set_ylim(bottom + 0.5, top - 0.5)\n",
    "    plt.title(title)\n",
    "    plt.show()"
   ]
  },
  {
   "cell_type": "markdown",
   "metadata": {},
   "source": [
    "Logistic Regression"
   ]
  },
  {
   "cell_type": "code",
   "execution_count": 28,
   "metadata": {},
   "outputs": [
    {
     "name": "stdout",
     "output_type": "stream",
     "text": [
      "Fitting 5 folds for each of 10 candidates, totalling 50 fits\n",
      "Fitting 5 folds for each of 10 candidates, totalling 50 fits\n",
      "Fitting 5 folds for each of 10 candidates, totalling 50 fits\n"
     ]
    }
   ],
   "source": [
    "splits = training(\"LogisticRegression\")"
   ]
  },
  {
   "cell_type": "code",
   "execution_count": null,
   "metadata": {},
   "outputs": [],
   "source": []
  }
 ],
 "metadata": {
  "kernelspec": {
   "display_name": "Python 3",
   "language": "python",
   "name": "python3"
  },
  "language_info": {
   "codemirror_mode": {
    "name": "ipython",
    "version": 3
   },
   "file_extension": ".py",
   "mimetype": "text/x-python",
   "name": "python",
   "nbconvert_exporter": "python",
   "pygments_lexer": "ipython3",
   "version": "3.11.4"
  }
 },
 "nbformat": 4,
 "nbformat_minor": 2
}
